{
 "cells": [
  {
   "cell_type": "code",
   "execution_count": 1,
   "id": "640b5b95",
   "metadata": {},
   "outputs": [
    {
     "data": {
      "text/plain": [
       "'d:\\\\Programming\\\\MachineLearning\\\\MLOPs\\\\End to End ML PipeLine'"
      ]
     },
     "execution_count": 1,
     "metadata": {},
     "output_type": "execute_result"
    }
   ],
   "source": [
    "import os\n",
    "os.chdir('../')\n",
    "%pwd"
   ]
  },
  {
   "cell_type": "code",
   "execution_count": null,
   "id": "bf7f635a",
   "metadata": {},
   "outputs": [],
   "source": [
    "from dataclasses import dataclass\n",
    "from pathlib import Path\n",
    "\n",
    "@dataclass(frozen=True)\n",
    "class DataIngestionConfig:\n",
    "    root_dir: Path\n",
    "    source_URL: str\n",
    "    local_data_file: Path\n",
    "    unzip_dir: Path"
   ]
  },
  {
   "cell_type": "code",
   "execution_count": 3,
   "id": "7dce6121",
   "metadata": {},
   "outputs": [
    {
     "name": "stdout",
     "output_type": "stream",
     "text": [
      "Constants module loaded.\n"
     ]
    }
   ],
   "source": [
    "from MLOps.constants import *\n",
    "from MLOps.utils.common import read_yaml, create_directories"
   ]
  },
  {
   "cell_type": "code",
   "execution_count": null,
   "id": "3f4ce82d",
   "metadata": {},
   "outputs": [],
   "source": [
    "class ConfigurationManager:\n",
    "    def __init__(self, config_file_path=CONFIG_FILE_PATH, params_file_path=PARAMS_FILE_PATH, schema_file_path=SCHEMA_FILE_PATH):\n",
    "        \n",
    "        self.config = read_yaml(config_file_path)\n",
    "        self.params = read_yaml(params_file_path)\n",
    "        self.schema = read_yaml(schema_file_path)\n",
    "        create_directories(list_of_directories=[self.config.artifacts_root])\n",
    "    \n",
    "    def get_data_ingestion_config(self) -> DataIngestionConfig:\n",
    "        data_ingestion_config = self.config.data_ingestion\n",
    "        create_directories([data_ingestion_config.root_dir])\n",
    "        return DataIngestionConfig(\n",
    "            root_dir=data_ingestion_config.root_dir,\n",
    "            source_URL=data_ingestion_config.source_URL,\n",
    "            local_data_file=data_ingestion_config.local_data_file,\n",
    "            unzip_dir=data_ingestion_config.unzip_dir\n",
    "        )"
   ]
  },
  {
   "cell_type": "code",
   "execution_count": 5,
   "id": "0b5f99a3",
   "metadata": {},
   "outputs": [],
   "source": [
    "import os\n",
    "import urllib.request as request\n",
    "import zipfile\n",
    "from MLOps import logger\n",
    "from MLOps.utils.common import get_size"
   ]
  },
  {
   "cell_type": "code",
   "execution_count": 10,
   "id": "9bde09c8",
   "metadata": {},
   "outputs": [],
   "source": [
    "class DataIngestion:\n",
    "    def __init__(self, config: DataIngestionConfig):\n",
    "        self.config = config\n",
    "        create_directories([self.config.root_dir])\n",
    "    \n",
    "    def download_file(self):\n",
    "        if not os.path.exists(self.config.local_data_file):\n",
    "            logger.info(f\"Downloading file from {self.config.source_URL} to {self.config.local_data_file}\")\n",
    "            request.urlretrieve(self.config.source_URL, self.config.local_data_file)\n",
    "            logger.info(f\"Downloaded {get_size(self.config.local_data_file)} bytes\")\n",
    "        else:\n",
    "            logger.info(f\"File already exists at {self.config.local_data_file}\")\n",
    "    \n",
    "    def extract_zip_file(self):\n",
    "        logger.info(f\"Extracting zip file to {self.config.unzip_dir}\")\n",
    "        with zipfile.ZipFile(self.config.local_data_file, 'r') as zip_ref:\n",
    "            zip_ref.extractall(self.config.unzip_dir)\n",
    "        logger.info(\"Extraction completed\")\n",
    "        "
   ]
  },
  {
   "cell_type": "code",
   "execution_count": 11,
   "id": "7d165f6a",
   "metadata": {},
   "outputs": [
    {
     "name": "stdout",
     "output_type": "stream",
     "text": [
      "artifacts\n",
      "Creating files\n",
      "Directory already exists: artifacts\n",
      "Creating files\n",
      "Directory already exists: artifacts\\data_ingestion\n",
      "Creating files\n",
      "Directory already exists: artifacts\\data_ingestion\n",
      "2025-07-02 01:12:49,021 - MLOpsLogger - INFO - File already exists at artifacts/data_ingestion/data.zip\n",
      "2025-07-02 01:12:49,023 - MLOpsLogger - INFO - Extracting zip file to artifacts/data_ingestion\n",
      "2025-07-02 01:12:49,036 - MLOpsLogger - INFO - Extraction completed\n"
     ]
    }
   ],
   "source": [
    "try:\n",
    "    config = ConfigurationManager()\n",
    "    data_ingestion_config = config.get_data_ingestion_config()\n",
    "    data_ingestion = DataIngestion(config=data_ingestion_config)\n",
    "    data_ingestion.download_file()\n",
    "    data_ingestion.extract_zip_file()\n",
    "except Exception as e:\n",
    "    raise e"
   ]
  },
  {
   "cell_type": "code",
   "execution_count": null,
   "id": "54a36e3b",
   "metadata": {},
   "outputs": [],
   "source": []
  }
 ],
 "metadata": {
  "kernelspec": {
   "display_name": "mlops",
   "language": "python",
   "name": "python3"
  },
  "language_info": {
   "codemirror_mode": {
    "name": "ipython",
    "version": 3
   },
   "file_extension": ".py",
   "mimetype": "text/x-python",
   "name": "python",
   "nbconvert_exporter": "python",
   "pygments_lexer": "ipython3",
   "version": "3.11.13"
  }
 },
 "nbformat": 4,
 "nbformat_minor": 5
}
